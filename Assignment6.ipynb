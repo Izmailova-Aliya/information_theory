{
 "cells": [
  {
   "cell_type": "code",
   "execution_count": 7,
   "id": "ada3ff9f",
   "metadata": {},
   "outputs": [
    {
     "data": {
      "text/plain": [
       "'Qww\\n\\n\\n\\n'"
      ]
     },
     "execution_count": 7,
     "metadata": {},
     "output_type": "execute_result"
    }
   ],
   "source": [
    "# Original file\n",
    "ff = open(\"ass2.txt\", \"r\").read()\n",
    "ff"
   ]
  },
  {
   "cell_type": "code",
   "execution_count": 2,
   "id": "f325a886",
   "metadata": {},
   "outputs": [
    {
     "data": {
      "text/plain": [
       "'1110100000'"
      ]
     },
     "execution_count": 2,
     "metadata": {},
     "output_type": "execute_result"
    }
   ],
   "source": [
    "#encoded text\n",
    "f = open(\"ass3.txt\", \"r\").read()\n",
    "f"
   ]
  },
  {
   "cell_type": "code",
   "execution_count": 6,
   "id": "1d4d3ea7",
   "metadata": {},
   "outputs": [
    {
     "name": "stdout",
     "output_type": "stream",
     "text": [
      "['1', '1', '1', '0', '1', '0', '0', '0', '0', '0']\n",
      "length: 10\n"
     ]
    }
   ],
   "source": [
    "#to array\n",
    "arr1 = []\n",
    "for i in range(len(f)):\n",
    "    arr1.append(f[i])\n",
    "print(arr1)\n",
    "print('length:', len(arr1))"
   ]
  },
  {
   "cell_type": "code",
   "execution_count": 21,
   "id": "5ebfd162",
   "metadata": {},
   "outputs": [],
   "source": [
    "#powers of 2 array\n",
    "powers = []\n",
    "for i in range(1000):\n",
    "    powers.append(2**i)"
   ]
  },
  {
   "cell_type": "code",
   "execution_count": 30,
   "id": "67395477",
   "metadata": {},
   "outputs": [
    {
     "name": "stdout",
     "output_type": "stream",
     "text": [
      "['1', '1', '0', '0'] - parity bits\n",
      "['1', '2', '4', '8']\n",
      "\n",
      "['1', '1', '0', '0', '0', '0'] - data bits\n",
      "['3', '5', '6', '7', '9', '10']\n"
     ]
    }
   ],
   "source": [
    "#patiry bits and data bits\n",
    "parity_arr1 = []\n",
    "parity_indeces = []\n",
    "data_arr1 = []\n",
    "data_indeces = []\n",
    "for i in range(1, len(arr1)+1):\n",
    "    if i in powers:\n",
    "        parity_arr1.append(arr1[i-1])\n",
    "        parity_indeces.append(str(i))\n",
    "    else:\n",
    "        data_arr1.append(arr1[i-1])\n",
    "        data_indeces.append(str(i))\n",
    "print(parity_arr1, '- parity bits\\n'+ str(parity_indeces)+ '\\n\\n'+ str(data_arr1), '- data bits')\n",
    "print(data_indeces)"
   ]
  },
  {
   "cell_type": "code",
   "execution_count": 43,
   "id": "6c50815a",
   "metadata": {},
   "outputs": [
    {
     "name": "stdout",
     "output_type": "stream",
     "text": [
      "0 - res_p1\n",
      "\n",
      " ['1', '0', '0'] - p1\n"
     ]
    }
   ],
   "source": [
    "p1, p2, p3, p4 = [], [], [], []\n",
    "res_p1, res_p2, res_p3, res_p4 = -1, -1, -1, -1\n",
    "count0, count1 = 0, 0\n",
    "for i in range(len(data_arr1)):\n",
    "    if i % 2 ==0:\n",
    "        p1.append(data_arr1[i])\n",
    "for i in p1:\n",
    "    if i == '0':\n",
    "        count0 += 1\n",
    "    elif i == '1':\n",
    "        count1 += 1\n",
    "if count0 > count1:\n",
    "    res_p1 = 0\n",
    "    print(res_p1, '- res_p1')\n",
    "else:\n",
    "    res_p1 = 1\n",
    "    print(res_p1, '- res_p1')\n",
    "print('\\n', p1, '- p1')"
   ]
  }
 ],
 "metadata": {
  "kernelspec": {
   "display_name": "Python 3",
   "language": "python",
   "name": "python3"
  },
  "language_info": {
   "codemirror_mode": {
    "name": "ipython",
    "version": 3
   },
   "file_extension": ".py",
   "mimetype": "text/x-python",
   "name": "python",
   "nbconvert_exporter": "python",
   "pygments_lexer": "ipython3",
   "version": "3.8.8"
  }
 },
 "nbformat": 4,
 "nbformat_minor": 5
}
