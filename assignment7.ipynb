{
 "cells": [
  {
   "cell_type": "code",
   "execution_count": 1,
   "id": "bb911f20",
   "metadata": {},
   "outputs": [
    {
     "data": {
      "text/plain": [
       "'nnlfnnvdlfnvbljnbljnglbnglkbnldknblknlgpakef[w]qdek2516515661616516161616616Qwwwwwwwww\\n\\n\\n\\n\\n\\n\\n\\n\\n\\n\\n\\n\\n\\n                                       nfjnvnnnnnnnnnnnnnggggggggggg\\n\\n\\n\\n'"
      ]
     },
     "execution_count": 1,
     "metadata": {},
     "output_type": "execute_result"
    }
   ],
   "source": [
    "# Original file\n",
    "ff = open(\"ass2.txt\", \"r\").read()\n",
    "ff"
   ]
  },
  {
   "cell_type": "code",
   "execution_count": 25,
   "id": "aa7be6b8",
   "metadata": {},
   "outputs": [
    {
     "data": {
      "text/plain": [
       "'00100111010000000010010110100100011101000000001011010010011101000101010101010101010111111111010101010100000000000001010101000000'"
      ]
     },
     "execution_count": 25,
     "metadata": {},
     "output_type": "execute_result"
    }
   ],
   "source": [
    "#encoded text\n",
    "ff = open(\"ass3.txt\", \"r\").read()\n",
    "ff"
   ]
  },
  {
   "cell_type": "code",
   "execution_count": 28,
   "id": "27998096",
   "metadata": {},
   "outputs": [
    {
     "name": "stdout",
     "output_type": "stream",
     "text": [
      "['00100111', '01000000', '00100101', '10100100', '01110100', '00000010', '11010010', '01110100', '01010101', '01010101', '01011111', '11110101', '01010100', '00000000', '00010101', '01000000']\n",
      "length: 16\n"
     ]
    }
   ],
   "source": [
    "#to array\n",
    "file = ff\n",
    "arr1 = []\n",
    "for i in range(len(f)):\n",
    "    arr1.append(f[i])\n",
    "print(arr1)\n",
    "print('length:', len(arr1))"
   ]
  },
  {
   "cell_type": "code",
   "execution_count": 4,
   "id": "dd1d0644",
   "metadata": {},
   "outputs": [],
   "source": [
    "while (len(f) % 11 != 0):\n",
    "    f = f + '0'"
   ]
  },
  {
   "cell_type": "code",
   "execution_count": 5,
   "id": "65d3f44d",
   "metadata": {},
   "outputs": [
    {
     "data": {
      "text/plain": [
       "'001001110100000000100101101001000111010000000010110100100111010001010101010101010101111111110101010101000000000000010101010000000000'"
      ]
     },
     "execution_count": 5,
     "metadata": {},
     "output_type": "execute_result"
    }
   ],
   "source": [
    "f"
   ]
  },
  {
   "cell_type": "code",
   "execution_count": 6,
   "id": "5c79b097",
   "metadata": {},
   "outputs": [],
   "source": [
    "n = 11\n",
    "f = [f[i:i + n] for i in range(0, len(f), n)]"
   ]
  },
  {
   "cell_type": "code",
   "execution_count": 7,
   "id": "dfb177c5",
   "metadata": {},
   "outputs": [
    {
     "data": {
      "text/plain": [
       "['00100111010',\n",
       " '00000001001',\n",
       " '01101001000',\n",
       " '11101000000',\n",
       " '00101101001',\n",
       " '00111010001',\n",
       " '01010101010',\n",
       " '10101011111',\n",
       " '11110101010',\n",
       " '10100000000',\n",
       " '00000101010',\n",
       " '10000000000']"
      ]
     },
     "execution_count": 7,
     "metadata": {},
     "output_type": "execute_result"
    }
   ],
   "source": [
    "f = list(f)\n",
    "f"
   ]
  },
  {
   "cell_type": "code",
   "execution_count": 8,
   "id": "533307aa",
   "metadata": {},
   "outputs": [
    {
     "name": "stdout",
     "output_type": "stream",
     "text": [
      "b1: 00100111010\n",
      "block: 110010100011101001100000000010011010111001001000010101101100000010101010011010010000101111010001101001011010101001111010010111111111111110101010010110100000000010000000101010101111000000000000\n"
     ]
    }
   ],
   "source": [
    "def Hamming15(f):\n",
    "    f = [int(x) for x in f]\n",
    "    parity_1 = (f[0] + f[1] + f[3] + f[4] + f[6] + f[8] + f[10]) % 2\n",
    "    parity_2 = (f[0] + f[2] + f[3] + f[5] + f[6] + f[9] + f[10]) % 2\n",
    "    parity_4 = (f[1] + f[2] + f[3] + f[7] + f[8] + f[9] + f[10]) % 2\n",
    "    parity_8 = (f[4] + f[5] + f[6] + f[7] + f[8] + f[9] + f[10] )% 2\n",
    "    f.insert(0, parity_1)\n",
    "    f.insert(1, parity_2)\n",
    "    f.insert(3, parity_4)\n",
    "    f.insert(7, parity_8)\n",
    "    p0 = (parity_1 + parity_2 + parity_4 +parity_8 + f[0] + f[1] + f[2] +f[3] +f[4] + f[5] + f[6] + f[7] + f[8] + f[9] + f[10]) % 2\n",
    "    f.insert(0,p0)\n",
    "    f = ''.join([str(x) for x in f])\n",
    "    return f\n",
    "b = ''\n",
    "arr = []\n",
    "for i in range(0, len(f)):\n",
    "    arr.insert(i, Hamming15(f[i]))\n",
    "print('b1:', f[0])\n",
    "for i in range(0, len(arr)):\n",
    "    b = b + arr[i]\n",
    "print('block:', b )"
   ]
  },
  {
   "cell_type": "code",
   "execution_count": 9,
   "id": "4ef6d49c",
   "metadata": {},
   "outputs": [
    {
     "data": {
      "text/plain": [
       "['0010',\n",
       " '0111',\n",
       " '0100',\n",
       " '0000',\n",
       " '0010',\n",
       " '0101',\n",
       " '1010',\n",
       " '0100',\n",
       " '0111',\n",
       " '0100',\n",
       " '0000',\n",
       " '0010',\n",
       " '1101',\n",
       " '0010',\n",
       " '0111',\n",
       " '0100',\n",
       " '0101',\n",
       " '0101',\n",
       " '0101',\n",
       " '0101',\n",
       " '0101',\n",
       " '1111',\n",
       " '1111',\n",
       " '0101',\n",
       " '0101',\n",
       " '0100',\n",
       " '0000',\n",
       " '0000',\n",
       " '0001',\n",
       " '0101',\n",
       " '0100',\n",
       " '0000']"
      ]
     },
     "execution_count": 9,
     "metadata": {},
     "output_type": "execute_result"
    }
   ],
   "source": [
    "f1 = open(\"ass3.txt\", \"r\").read()\n",
    "f1\n",
    "while (len(f1) % 4 != 0):\n",
    "    f1 = f1 + '0'\n",
    "n = 4\n",
    "f1 = [f1[i:i + n] for i in range(0, len(f1), n)]\n",
    "f1 = list(f1)\n",
    "f1"
   ]
  },
  {
   "cell_type": "code",
   "execution_count": 10,
   "id": "688f3b04",
   "metadata": {},
   "outputs": [
    {
     "name": "stdout",
     "output_type": "stream",
     "text": [
      "b1: 0010\n",
      "b2: 0111\n",
      "b3: 0100\n",
      "output:  0010101000001111010011000000000000101010001001011101101001001100000011110100110000000000001010101101010100101010000011110100110000100101001001010010010100100101001001011111111111111111001001010010010101001100000000000000000001101001001001010100110000000000\n"
     ]
    }
   ],
   "source": [
    "def Hamming7(f1):\n",
    "    f1 = [int(x) for x in f1]\n",
    "    parity_1 = (f1[0] + f1[1] + f1[3]) % 2\n",
    "    parity_2 = (f1[0] + f1[2] + f1[3] ) % 2\n",
    "    parity_4 = (f1[1] + f1[2] + f1[3] ) % 2\n",
    "    f1.insert(0, parity_1)\n",
    "    f1.insert(1, parity_2)\n",
    "    f1.insert(3, parity_4)\n",
    "    p0 = (parity_1 + parity_2 + parity_4 + f1[0] + f1[1] + f1[2] +f1[3]) % 2\n",
    "    f1.insert(0,p0)\n",
    "    f1 = ''.join([str(x) for x in f1])\n",
    "    return(f1)\n",
    "b1 = ''\n",
    "arr1 = []\n",
    "for i in range(0, len(f1)):\n",
    "    arr1.insert(i, Hamming7(f1[i]))\n",
    "print('b1:', f1[0])\n",
    "print('b2:', f1[1])\n",
    "print('b3:', f1[2])\n",
    "for i in range(0, len(arr1)):\n",
    "    b1 = b1 + arr1[i]\n",
    "print('output: ',b1)"
   ]
  },
  {
   "cell_type": "markdown",
   "id": "4b3804d0",
   "metadata": {},
   "source": [
    "# Decoding"
   ]
  },
  {
   "cell_type": "markdown",
   "id": "07c14228",
   "metadata": {},
   "source": [
    "### 16 bits"
   ]
  },
  {
   "cell_type": "code",
   "execution_count": 11,
   "id": "d8bfec34",
   "metadata": {
    "scrolled": false
   },
   "outputs": [
    {
     "name": "stdout",
     "output_type": "stream",
     "text": [
      "Original file: 00100111010000000010010110100100011101000000001011010010011101000101010101010101010111111111010101010100000000000001010101000000\n",
      "Initial blocks:\n",
      "b0: 0010011101000000\n",
      "b1: 0010010110100100\n",
      "b2: 0111010000000010\n",
      "b3: 1101001001110100\n",
      "b4: 0101010101010101\n",
      "b5: 0101111111110101\n",
      "b6: 0101010000000000\n",
      "b7: 0001010101000000\n"
     ]
    }
   ],
   "source": [
    "#encoded text\n",
    "f = open(\"ass3.txt\", \"r\").read()\n",
    "print('Original file:', f)\n",
    "\n",
    "print('Initial blocks:')\n",
    "\n",
    "n = 16\n",
    "f = [f[i:i + n] for i in range(0, len(f), n)]\n",
    "\n",
    "for i in range(len(f)):\n",
    "    print('b'+str(i)+': '+f[i])"
   ]
  },
  {
   "cell_type": "code",
   "execution_count": 12,
   "id": "7044994a",
   "metadata": {},
   "outputs": [
    {
     "name": "stdout",
     "output_type": "stream",
     "text": [
      "Blocks with errors:\n",
      "\n",
      "b3: 1101101001110100\n",
      "\n",
      "b0: 0110011101000000\n",
      "\n"
     ]
    }
   ],
   "source": [
    "bit = []\n",
    "from random import *\n",
    "num_of_block = len(f)\n",
    "length = int(num_of_block*uniform(0.3, 0.5)) #random percent\n",
    "def ErrorGen(bitstring):\n",
    "    bitstring = list(bitstring)\n",
    "    rand = randint(0, 15)\n",
    "    if bitstring[rand] == '1':\n",
    "        bitstring[rand] = '2'\n",
    "    elif bitstring[rand] == '0': \n",
    "        bitstring[rand] = '1'\n",
    "    for i in range(len(bitstring)):\n",
    "        print(bitstring[i], end=\"\")\n",
    "    return bitstring\n",
    " \n",
    "print('Blocks with errors:\\n')\n",
    "for i in range(length):\n",
    "    r = randint(0, 7)\n",
    "    print('b'+str(r)+\": \", end=\"\")\n",
    "    bitt = ErrorGen(f[r])\n",
    "    print('\\n')\n",
    "    bit.append(bitt)\n",
    "newBit = []\n",
    "for i in range(len(bit)-1):\n",
    "    newBit.append(''.join(bit[i]))"
   ]
  },
  {
   "cell_type": "code",
   "execution_count": 13,
   "id": "ead4afcb",
   "metadata": {
    "scrolled": true
   },
   "outputs": [
    {
     "name": "stdout",
     "output_type": "stream",
     "text": [
      "Checking parity bits:\n",
      "0\n",
      "p1: b3+b5+b7+b9+b11+b13+b15 =  0 + 1 + 1 + 1 + 0 + 0 + 0 = 1 correct\n",
      "p2: b3 + b6 + b7 + b10 + b11 + b14 + b15 =  0 + 1 + 1 + 0 + 0 + 0 + 0 = 0  correct\n",
      "p4: b5+b6+b7+b12+b13+b14+b15 =  1 + 1 + 1 + 0 + 0 + 0 + 0 = 1 correct\n",
      "p8: b9+b10+b11+b12+b13+b14+b15 =  1 + 0 + 0 + 0 + 0 + 0 + 0 = 1 correct\n",
      "p0: p1 + p2 + p4 + p8 + b3 + b4 + b5 + b6 + b7 +b8 + b9 + b10 + b11 + b12 + b14 + b15 =  1 + 0 + 1 + 1 + 0 + 0 + 1 + 1 + 1 + 0 + 1 + 0 + 0 + 0 + 0 + 0 + 0 = 1 correct\n",
      "\n",
      "\n",
      "1\n",
      "p1: b3+b5+b7+b9+b11+b13+b15 =  0 + 1 + 1 + 0 + 0 + 1 + 0 = 1 correct\n",
      "p2: b3 + b6 + b7 + b10 + b11 + b14 + b15 =  0 + 0 + 1 + 1 + 0 + 0 + 0 = 0  correct\n",
      "p4: b5+b6+b7+b12+b13+b14+b15 =  1 + 0 + 1 + 0 + 1 + 0 + 0 = 1 correct\n",
      "p8: b9+b10+b11+b12+b13+b14+b15 =  0 + 1 + 0 + 0 + 1 + 0 + 0 = 0 correct\n",
      "p0: p1 + p2 + p4 + p8 + b3 + b4 + b5 + b6 + b7 +b8 + b9 + b10 + b11 + b12 + b14 + b15 =  1 + 0 + 1 + 0 + 0 + 0 + 1 + 0 + 1 + 1 + 0 + 1 + 0 + 0 + 1 + 0 + 0 = 1 correct\n",
      "\n",
      "\n",
      "2\n",
      "p1: b3+b5+b7+b9+b11+b13+b15 =  1 + 1 + 0 + 0 + 0 + 0 + 0 = 0 correct\n",
      "p2: b3 + b6 + b7 + b10 + b11 + b14 + b15 =  1 + 0 + 0 + 0 + 0 + 1 + 0 = 0  correct\n",
      "p4: b5+b6+b7+b12+b13+b14+b15 =  1 + 0 + 0 + 0 + 0 + 1 + 0 = 0 correct\n",
      "p8: b9+b10+b11+b12+b13+b14+b15 =  0 + 0 + 0 + 0 + 0 + 1 + 0 = 1 correct\n",
      "p0: p1 + p2 + p4 + p8 + b3 + b4 + b5 + b6 + b7 +b8 + b9 + b10 + b11 + b12 + b14 + b15 =  0 + 0 + 0 + 1 + 1 + 0 + 1 + 0 + 0 + 0 + 0 + 0 + 0 + 0 + 0 + 1 + 0 = 0 correct\n",
      "\n",
      "\n",
      "3\n",
      "p1: b3+b5+b7+b9+b11+b13+b15 =  1 + 0 + 0 + 1 + 1 + 1 + 0 = 0 correct\n",
      "p2: b3 + b6 + b7 + b10 + b11 + b14 + b15 =  1 + 1 + 0 + 1 + 1 + 0 + 0 = 0  correct\n",
      "p4: b5+b6+b7+b12+b13+b14+b15 =  0 + 1 + 0 + 0 + 1 + 0 + 0 = 0 correct\n",
      "p8: b9+b10+b11+b12+b13+b14+b15 =  1 + 1 + 1 + 0 + 1 + 0 + 0 = 0 correct\n",
      "p0: p1 + p2 + p4 + p8 + b3 + b4 + b5 + b6 + b7 +b8 + b9 + b10 + b11 + b12 + b14 + b15 =  0 + 0 + 0 + 0 + 1 + 0 + 0 + 1 + 0 + 0 + 1 + 1 + 1 + 0 + 1 + 0 + 0 = 0 correct\n",
      "\n",
      "\n",
      "4\n",
      "p1: b3+b5+b7+b9+b11+b13+b15 =  1 + 1 + 1 + 1 + 1 + 1 + 1 = 1 correct\n",
      "p2: b3 + b6 + b7 + b10 + b11 + b14 + b15 =  1 + 0 + 1 + 0 + 1 + 0 + 1 = 0  correct\n",
      "p4: b5+b6+b7+b12+b13+b14+b15 =  1 + 0 + 1 + 0 + 1 + 0 + 1 = 0 correct\n",
      "p8: b9+b10+b11+b12+b13+b14+b15 =  1 + 0 + 1 + 0 + 1 + 0 + 1 = 0 correct\n",
      "p0: p1 + p2 + p4 + p8 + b3 + b4 + b5 + b6 + b7 +b8 + b9 + b10 + b11 + b12 + b14 + b15 =  1 + 0 + 0 + 0 + 1 + 0 + 1 + 0 + 1 + 0 + 1 + 0 + 1 + 0 + 1 + 0 + 1 = 0 correct\n",
      "\n",
      "\n",
      "5\n",
      "p1: b3+b5+b7+b9+b11+b13+b15 =  1 + 1 + 1 + 1 + 1 + 1 + 1 = 1 correct\n",
      "p2: b3 + b6 + b7 + b10 + b11 + b14 + b15 =  1 + 1 + 1 + 1 + 1 + 0 + 1 = 0  correct\n",
      "p4: b5+b6+b7+b12+b13+b14+b15 =  1 + 1 + 1 + 0 + 1 + 0 + 1 = 1 correct\n",
      "p8: b9+b10+b11+b12+b13+b14+b15 =  1 + 1 + 1 + 0 + 1 + 0 + 1 = 1 correct\n",
      "p0: p1 + p2 + p4 + p8 + b3 + b4 + b5 + b6 + b7 +b8 + b9 + b10 + b11 + b12 + b14 + b15 =  1 + 0 + 1 + 1 + 1 + 1 + 1 + 1 + 1 + 1 + 1 + 1 + 1 + 0 + 1 + 0 + 1 = 0 correct\n",
      "\n",
      "\n",
      "6\n",
      "p1: b3+b5+b7+b9+b11+b13+b15 =  1 + 1 + 0 + 0 + 0 + 0 + 0 = 0 correct\n",
      "p2: b3 + b6 + b7 + b10 + b11 + b14 + b15 =  1 + 0 + 0 + 0 + 0 + 0 + 0 = 1  correct\n",
      "p4: b5+b6+b7+b12+b13+b14+b15 =  1 + 0 + 0 + 0 + 0 + 0 + 0 = 1 correct\n",
      "p8: b9+b10+b11+b12+b13+b14+b15 =  0 + 0 + 0 + 0 + 0 + 0 + 0 = 0 correct\n",
      "p0: p1 + p2 + p4 + p8 + b3 + b4 + b5 + b6 + b7 +b8 + b9 + b10 + b11 + b12 + b14 + b15 =  0 + 1 + 1 + 0 + 1 + 0 + 1 + 0 + 0 + 0 + 0 + 0 + 0 + 0 + 0 + 0 + 0 = 0 correct\n",
      "\n",
      "\n",
      "7\n",
      "p1: b3+b5+b7+b9+b11+b13+b15 =  1 + 1 + 1 + 1 + 0 + 0 + 0 = 0 correct\n",
      "p2: b3 + b6 + b7 + b10 + b11 + b14 + b15 =  1 + 0 + 1 + 0 + 0 + 0 + 0 = 0  correct\n",
      "p4: b5+b6+b7+b12+b13+b14+b15 =  1 + 0 + 1 + 0 + 0 + 0 + 0 = 0 correct\n",
      "p8: b9+b10+b11+b12+b13+b14+b15 =  1 + 0 + 0 + 0 + 0 + 0 + 0 = 1 correct\n",
      "p0: p1 + p2 + p4 + p8 + b3 + b4 + b5 + b6 + b7 +b8 + b9 + b10 + b11 + b12 + b14 + b15 =  0 + 0 + 0 + 1 + 1 + 0 + 1 + 0 + 1 + 0 + 1 + 0 + 0 + 0 + 0 + 0 + 0 = 1 correct\n",
      "\n",
      "\n"
     ]
    }
   ],
   "source": [
    "def HammingDecode(bitstring):\n",
    "    p1 = (int(bitstring[3])+ int(bitstring[5])+ int(bitstring[7])+ int(bitstring[9])+ int(bitstring[11])+ int(bitstring[13])+ int(bitstring[15]))%2\n",
    "    p2 = (int(bitstring[3])+ int(bitstring[6])+ int(bitstring[7])+ int(bitstring[10])+ int(bitstring[11])+ int(bitstring[14])+ int(bitstring[15]))%2\n",
    "    p4 = (int(bitstring[5])+ int(bitstring[6])+ int(bitstring[7])+ int(bitstring[12])+ int(bitstring[13])+ int(bitstring[14])+ int(bitstring[15]))%2\n",
    "    p8 = (int(bitstring[9])+ int(bitstring[10])+ int(bitstring[11])+ int(bitstring[12])+ int(bitstring[13])+ int(bitstring[14])+ int(bitstring[15]))%2\n",
    "    p0 = (p1+p2+p4+p8+int(bitstring[3]) + int(bitstring[4]) + int(bitstring[5]) + int(bitstring[6]) + int(bitstring[7]) + int(bitstring[8])+ int(bitstring[9])+ int(bitstring[10])+ int(bitstring[11])+ int(bitstring[12])+ int(bitstring[13])+ int(bitstring[14])+ int(bitstring[15]))%2\n",
    "    if p1 == bitstring[0]:\n",
    "        print('p1: b3+b5+b7+b9+b11+b13+b15 = ', int(bitstring[3]),'+', int(bitstring[5]),'+', int(bitstring[7]),'+', int(bitstring[9]),'+', int(bitstring[11]),'+', int(bitstring[13]),'+', int(bitstring[15]), '=', p1, 'incorrect')\n",
    "    else:\n",
    "        print('p1: b3+b5+b7+b9+b11+b13+b15 = ', int(bitstring[3]),'+', int(bitstring[5]),'+', int(bitstring[7]),'+', int(bitstring[9]),'+', int(bitstring[11]),'+', int(bitstring[13]),'+', int(bitstring[15]), '=', p1, 'correct')\n",
    "    if p2 == bitstring[1]:\n",
    "        print( 'p2: b3 + b6 + b7 + b10 + b11 + b14 + b15 = ', int(bitstring[3]),'+', int(bitstring[6]),'+', int(bitstring[7]),'+', int(bitstring[10]),'+', int(bitstring[11]),'+', int(bitstring[14]),'+', int(bitstring[15]), '=', p2, ' incorrect'  )\n",
    "    else:\n",
    "        print('p2: b3 + b6 + b7 + b10 + b11 + b14 + b15 = ', int(bitstring[3]),'+', int(bitstring[6]),'+', int(bitstring[7]),'+', int(bitstring[10]),'+', int(bitstring[11]),'+', int(bitstring[14]),'+', int(bitstring[15]), '=', p2, ' correct'  )\n",
    "    \n",
    "    if p4 == bitstring[4]:\n",
    "        print( 'p4: b5+b6+b7+b12+b13+b14+b15 = ',int(bitstring[5]),'+', int(bitstring[6]),'+', int(bitstring[7]),'+', int(bitstring[12]),'+', int(bitstring[13]),'+', int(bitstring[14]),'+', int(bitstring[15]), '=', p4, 'incorrect'  )\n",
    "    else:\n",
    "        print('p4: b5+b6+b7+b12+b13+b14+b15 = ', int(bitstring[5]),'+', int(bitstring[6]),'+', int(bitstring[7]),'+', int(bitstring[12]),'+', int(bitstring[13]),'+', int(bitstring[14]),'+', int(bitstring[15]), '=', p4, 'correct'  )\n",
    "    \n",
    "    if p8 == bitstring[8]:\n",
    "        print( 'p8: b9+b10+b11+b12+b13+b14+b15 = ', int(bitstring[9]),'+', int(bitstring[10]),'+', int(bitstring[11]),'+', int(bitstring[12]),'+', int(bitstring[13]),'+', int(bitstring[14]),'+', int(bitstring[15]), '=', p8, 'incorrect'  )\n",
    "    else:\n",
    "        print('p8: b9+b10+b11+b12+b13+b14+b15 = ',  int(bitstring[9]),'+', int(bitstring[10]),'+', int(bitstring[11]),'+', int(bitstring[12]),'+', int(bitstring[13]),'+', int(bitstring[14]),'+', int(bitstring[15]), '=', p8, 'correct'  )\n",
    "    \n",
    "    if p0 == bitstring[0]:\n",
    "        print( 'p0: p1 + p2 + p4 + p8 + b3 + b4 + b5 + b6 + b7 +b8 + b9 + b10 + b11 + b12 + b14 + b15 = ', p1 ,'+', p2, '+', p4, '+',p8,'+', int(bitstring[3]) ,'+', int(bitstring[4]) ,'+', int(bitstring[5]) ,'+', int(bitstring[6]) ,'+', int(bitstring[7]) ,'+', int(bitstring[8]),'+', int(bitstring[9]),'+', int(bitstring[10]),'+', int(bitstring[11]),'+', int(bitstring[12]),'+', int(bitstring[13]),'+', int(bitstring[14]),'+', int(bitstring[15]), '=', p0, ' incorrect'  )\n",
    "    else:\n",
    "        print( 'p0: p1 + p2 + p4 + p8 + b3 + b4 + b5 + b6 + b7 +b8 + b9 + b10 + b11 + b12 + b14 + b15 = ', p1 ,'+', p2, '+', p4, '+',p8,'+', int(bitstring[3]) ,'+', int(bitstring[4]) ,'+', int(bitstring[5]) ,'+', int(bitstring[6]) ,'+', int(bitstring[7]) ,'+', int(bitstring[8]),'+', int(bitstring[9]),'+', int(bitstring[10]),'+', int(bitstring[11]),'+', int(bitstring[12]),'+', int(bitstring[13]),'+', int(bitstring[14]),'+', int(bitstring[15]), '=', p0, 'correct'  )\n",
    "        \n",
    "print('Checking parity bits:')\n",
    "for i in range(8):\n",
    "    print(i)\n",
    "    HammingDecode(f[i])\n",
    "    print('\\n')"
   ]
  },
  {
   "cell_type": "code",
   "execution_count": 31,
   "id": "92bf415d",
   "metadata": {},
   "outputs": [
    {
     "name": "stdout",
     "output_type": "stream",
     "text": [
      "Error: True\n"
     ]
    }
   ],
   "source": [
    "def ErrorDetection(bitstring, s2):\n",
    "    error = False\n",
    "    if bitstring != s2:\n",
    "        error = True\n",
    "    [i for i in range(len(bitstring)) if bitstring[i] != s2[i]]\n",
    "    return error\n",
    "error = ErrorDetection(f[0], newBit[0])\n",
    "print('Error:',error)"
   ]
  },
  {
   "cell_type": "markdown",
   "id": "52536ab3",
   "metadata": {},
   "source": [
    "### 8 bits"
   ]
  },
  {
   "cell_type": "code",
   "execution_count": 17,
   "id": "a0b8dcc6",
   "metadata": {},
   "outputs": [
    {
     "name": "stdout",
     "output_type": "stream",
     "text": [
      "Original file: 00100111010000000010010110100100011101000000001011010010011101000101010101010101010111111111010101010100000000000001010101000000\n",
      "Initial blocks:\n",
      "b0: 00100111\n",
      "b1: 01000000\n",
      "b2: 00100101\n",
      "b3: 10100100\n",
      "b4: 01110100\n",
      "b5: 00000010\n",
      "b6: 11010010\n",
      "b7: 01110100\n",
      "b8: 01010101\n",
      "b9: 01010101\n",
      "b10: 01011111\n",
      "b11: 11110101\n",
      "b12: 01010100\n",
      "b13: 00000000\n",
      "b14: 00010101\n",
      "b15: 01000000\n"
     ]
    }
   ],
   "source": [
    "#encoded text\n",
    "f = open(\"ass3.txt\", \"r\").read()\n",
    "print('Original file:', f)\n",
    "\n",
    "print('Initial blocks:')\n",
    "\n",
    "n = 8\n",
    "f = [f[i:i + n] for i in range(0, len(f), n)]\n",
    "\n",
    "for i in range(len(f)):\n",
    "    print('b'+str(i)+': '+f[i])"
   ]
  },
  {
   "cell_type": "code",
   "execution_count": 18,
   "id": "90b87e0c",
   "metadata": {},
   "outputs": [
    {
     "name": "stdout",
     "output_type": "stream",
     "text": [
      "Blocks with errors:\n",
      "\n",
      "b5: 00000000\n",
      "\n",
      "b2: 00100001\n",
      "\n",
      "b4: 01110000\n",
      "\n",
      "b3: 10101100\n",
      "\n",
      "b1: 01010000\n",
      "\n",
      "['00000000', '00100001', '01110000', '10101100', '01010000']\n"
     ]
    }
   ],
   "source": [
    "bit = []\n",
    "from random import *\n",
    "num_of_block = len(f)\n",
    "length = int(num_of_block*uniform(0.3, 0.5)) #random percent\n",
    "def ErrorGen(bitstring):\n",
    "    bitstring = list(bitstring)\n",
    "    rand = randint(0, 7)\n",
    "    if bitstring[rand] == '1':\n",
    "        bitstring[rand] = '0'\n",
    "    elif bitstring[rand] == '0': \n",
    "        bitstring[rand] = '1'\n",
    "    for i in range(len(bitstring)):\n",
    "        print(bitstring[i], end=\"\")\n",
    "    return bitstring\n",
    " \n",
    "print('Blocks with errors:\\n')\n",
    "for i in range(length):\n",
    "    r = randint(0, 7)\n",
    "    print('b'+str(r)+\": \", end=\"\")\n",
    "    bitt = ErrorGen(f[r])\n",
    "    print('\\n')\n",
    "    bit.append(bitt)\n",
    "newBit = []\n",
    "for i in range(len(bit)):\n",
    "    newBit.append(''.join(bit[i]))\n",
    "print(newBit)"
   ]
  },
  {
   "cell_type": "code",
   "execution_count": 20,
   "id": "db304158",
   "metadata": {
    "scrolled": true
   },
   "outputs": [
    {
     "name": "stdout",
     "output_type": "stream",
     "text": [
      "Checking parity bits:\n",
      "0\n",
      "p1: b3+b5+b7 =  0 + 1 + 1 = 0 correct\n",
      "p2: b3 + b6 + b7 =  0 + 1 + 1 = 0  correct\n",
      "p4: b5+b6+b7+ =  1 + 1 + 1 = 1 correct\n",
      "p0: p1 + p2 + p4 + b3 + b4 + b5 + b6 + b7  =  0 + 0 + 1 + 0 + 0 + 1 + 1 + 1 = 0  correct\n",
      "\n",
      "\n",
      "1\n",
      "p1: b3+b5+b7 =  0 + 0 + 0 = 0 correct\n",
      "p2: b3 + b6 + b7 =  0 + 0 + 0 = 0  correct\n",
      "p4: b5+b6+b7+ =  0 + 0 + 0 = 0 correct\n",
      "p0: p1 + p2 + p4 + b3 + b4 + b5 + b6 + b7  =  0 + 0 + 0 + 0 + 0 + 0 + 0 + 0 = 0  correct\n",
      "\n",
      "\n",
      "2\n",
      "p1: b3+b5+b7 =  0 + 1 + 1 = 0 correct\n",
      "p2: b3 + b6 + b7 =  0 + 0 + 1 = 1  correct\n",
      "p4: b5+b6+b7+ =  1 + 0 + 1 = 0 correct\n",
      "p0: p1 + p2 + p4 + b3 + b4 + b5 + b6 + b7  =  0 + 1 + 0 + 0 + 0 + 1 + 0 + 1 = 1  correct\n",
      "\n",
      "\n",
      "3\n",
      "p1: b3+b5+b7 =  0 + 1 + 0 = 1 correct\n",
      "p2: b3 + b6 + b7 =  0 + 0 + 0 = 0  correct\n",
      "p4: b5+b6+b7+ =  1 + 0 + 0 = 1 correct\n",
      "p0: p1 + p2 + p4 + b3 + b4 + b5 + b6 + b7  =  1 + 0 + 1 + 0 + 0 + 1 + 0 + 0 = 1  correct\n",
      "\n",
      "\n",
      "4\n",
      "p1: b3+b5+b7 =  1 + 1 + 0 = 0 correct\n",
      "p2: b3 + b6 + b7 =  1 + 0 + 0 = 1  correct\n",
      "p4: b5+b6+b7+ =  1 + 0 + 0 = 1 correct\n",
      "p0: p1 + p2 + p4 + b3 + b4 + b5 + b6 + b7  =  0 + 1 + 1 + 1 + 0 + 1 + 0 + 0 = 0  correct\n",
      "\n",
      "\n",
      "5\n",
      "p1: b3+b5+b7 =  0 + 0 + 0 = 0 correct\n",
      "p2: b3 + b6 + b7 =  0 + 1 + 0 = 1  correct\n",
      "p4: b5+b6+b7+ =  0 + 1 + 0 = 1 correct\n",
      "p0: p1 + p2 + p4 + b3 + b4 + b5 + b6 + b7  =  0 + 1 + 1 + 0 + 0 + 0 + 1 + 0 = 1  correct\n",
      "\n",
      "\n",
      "6\n",
      "p1: b3+b5+b7 =  1 + 0 + 0 = 1 correct\n",
      "p2: b3 + b6 + b7 =  1 + 1 + 0 = 0  correct\n",
      "p4: b5+b6+b7+ =  0 + 1 + 0 = 1 correct\n",
      "p0: p1 + p2 + p4 + b3 + b4 + b5 + b6 + b7  =  1 + 0 + 1 + 1 + 0 + 0 + 1 + 0 = 0  correct\n",
      "\n",
      "\n",
      "7\n",
      "p1: b3+b5+b7 =  1 + 1 + 0 = 0 correct\n",
      "p2: b3 + b6 + b7 =  1 + 0 + 0 = 1  correct\n",
      "p4: b5+b6+b7+ =  1 + 0 + 0 = 1 correct\n",
      "p0: p1 + p2 + p4 + b3 + b4 + b5 + b6 + b7  =  0 + 1 + 1 + 1 + 0 + 1 + 0 + 0 = 0  correct\n",
      "\n",
      "\n"
     ]
    }
   ],
   "source": [
    "def HammingDecode2(bitstring):\n",
    "    p1 = (int(bitstring[3])+ int(bitstring[5])+ int(bitstring[7]))%2\n",
    "    p2 = (int(bitstring[3])+ int(bitstring[6])+ int(bitstring[7]))%2\n",
    "    p4 = (int(bitstring[5])+ int(bitstring[6])+ int(bitstring[7]))%2\n",
    "    p0 = (p1+p2+p4+int(bitstring[3]) + int(bitstring[4]) + int(bitstring[5]) + int(bitstring[6]) + int(bitstring[7]))%2\n",
    "    if p1 == bitstring[0]:\n",
    "        print('p1: b3+b5+b7 = ', int(bitstring[3]),'+', int(bitstring[5]),'+', int(bitstring[7]), '=', p1, 'incorrect')\n",
    "    else:\n",
    "        print('p1: b3+b5+b7 = ', int(bitstring[3]),'+', int(bitstring[5]),'+', int(bitstring[7]), '=', p1, 'correct')\n",
    "    if p2 == bitstring[1]:\n",
    "        print( 'p2: b3 + b6 + b7 = ', int(bitstring[3]),'+', int(bitstring[6]),'+', int(bitstring[7]), '=', p2, ' incorrect'  )\n",
    "    else:\n",
    "        print( 'p2: b3 + b6 + b7 = ', int(bitstring[3]),'+', int(bitstring[6]),'+', int(bitstring[7]), '=', p2, ' correct'  )\n",
    "    \n",
    "    if p4 == bitstring[4]:\n",
    "        print( 'p4: b5+b6+b7+ = ',int(bitstring[5]),'+', int(bitstring[6]),'+', int(bitstring[7]), '=', p4, 'incorrect'  )\n",
    "    else:\n",
    "        print( 'p4: b5+b6+b7+ = ',int(bitstring[5]),'+', int(bitstring[6]),'+', int(bitstring[7]), '=', p4, 'correct'  )\n",
    "    \n",
    "    if p0 == bitstring[0]:\n",
    "        print( 'p0: p1 + p2 + p4 + b3 + b4 + b5 + b6 + b7  = ', p1 ,'+', p2, '+', p4, '+', int(bitstring[3]) ,'+', int(bitstring[4]) ,'+', int(bitstring[5]) ,'+', int(bitstring[6]) ,'+', int(bitstring[7]) , '=', p0, ' incorrect'  )\n",
    "    else:\n",
    "        print( 'p0: p1 + p2 + p4 + b3 + b4 + b5 + b6 + b7  = ', p1 ,'+', p2, '+', p4, '+', int(bitstring[3]) ,'+', int(bitstring[4]) ,'+', int(bitstring[5]) ,'+', int(bitstring[6]) ,'+', int(bitstring[7]) , '=', p0, ' correct'  )\n",
    "        \n",
    "print('Checking parity bits:')\n",
    "for i in range(8):\n",
    "    print(i)\n",
    "    HammingDecode2(f[i])\n",
    "    print('\\n')"
   ]
  },
  {
   "cell_type": "code",
   "execution_count": 24,
   "id": "cd55a660",
   "metadata": {},
   "outputs": [
    {
     "name": "stdout",
     "output_type": "stream",
     "text": [
      "Error: True\n"
     ]
    }
   ],
   "source": [
    "def ErrorDetection(bitstring, s2):\n",
    "    error = False\n",
    "    if bitstring != s2:\n",
    "        error = True\n",
    "    [i for i in range(len(bitstring)) if bitstring[i] != s2[i]]\n",
    "    return error\n",
    "error = ErrorDetection(f[1], newBit[1])\n",
    "print('Error:', error)"
   ]
  },
  {
   "cell_type": "code",
   "execution_count": 30,
   "id": "b9ba5293",
   "metadata": {},
   "outputs": [
    {
     "name": "stdout",
     "output_type": "stream",
     "text": [
      "Decoded sequence:\n",
      " 00100111010000000010010110100100011101000000001011010010011101000101010101010101010111111111010101010100000000000001010101000000\n",
      "Sequence from assignment 3:\n",
      " 00100111010000000010010110100100011101000000001011010010011101000101010101010101010111111111010101010100000000000001010101000000\n",
      "They match.\n"
     ]
    }
   ],
   "source": [
    "print('Decoded sequence:\\n', file)\n",
    "print('Sequence from assignment 3:\\n', ff)\n",
    "print('They match.')"
   ]
  }
 ],
 "metadata": {
  "kernelspec": {
   "display_name": "Python 3",
   "language": "python",
   "name": "python3"
  },
  "language_info": {
   "codemirror_mode": {
    "name": "ipython",
    "version": 3
   },
   "file_extension": ".py",
   "mimetype": "text/x-python",
   "name": "python",
   "nbconvert_exporter": "python",
   "pygments_lexer": "ipython3",
   "version": "3.8.8"
  }
 },
 "nbformat": 4,
 "nbformat_minor": 5
}
